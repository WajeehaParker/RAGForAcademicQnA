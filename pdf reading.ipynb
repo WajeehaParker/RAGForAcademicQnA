{
 "cells": [
  {
   "cell_type": "code",
   "execution_count": null,
   "metadata": {},
   "outputs": [],
   "source": [
    "pip install PyPDF2"
   ]
  },
  {
   "cell_type": "code",
   "execution_count": 19,
   "metadata": {},
   "outputs": [],
   "source": [
    "import PyPDF2\n",
    "\n",
    "def file_conversion(filename):\n",
    "    data = \"\"\n",
    "\n",
    "    pdfFileObj = open(filename, 'rb') #Physics_Book_For_embedding.pdf\n",
    "\n",
    "    # creating a pdf reader object\n",
    "    pdfReader = PyPDF2.PdfReader(pdfFileObj)\n",
    "\n",
    "    # printing number of pages in pdf file\n",
    "    print(len(pdfReader.pages))\n",
    "\n",
    "    # creating a page object\n",
    "    for i in range(len(pdfReader.pages)):\n",
    "            #print(\"Page Number\",i+1)\n",
    "        pageObj = pdfReader.pages[i]\n",
    "\n",
    "            # extracting text from page\n",
    "        data += '\\n' + pageObj.extract_text()\n",
    "\n",
    "        # closing the pdf file object\n",
    "    pdfFileObj.close()\n",
    "    return data"
   ]
  },
  {
   "cell_type": "code",
   "execution_count": 22,
   "metadata": {},
   "outputs": [],
   "source": [
    "import os\n",
    "\n",
    "def save_to_text_file(text, filename):\n",
    "    directory = os.path.dirname(filename)\n",
    "    try:\n",
    "        # Create the directory if it doesn't exist\n",
    "        os.makedirs(directory, exist_ok=True)\n",
    "        with open(filename, 'w', encoding='utf-8', errors='ignore') as file:\n",
    "            file.write(text)\n",
    "        print(\"Text saved to\", filename)\n",
    "    except Exception as e:\n",
    "        print(\"Error:\", e)\n"
   ]
  },
  {
   "cell_type": "code",
   "execution_count": 24,
   "metadata": {},
   "outputs": [
    {
     "name": "stdout",
     "output_type": "stream",
     "text": [
      "242\n",
      "Text saved to ConvertedBooks/Alevel/Book.txt\n",
      "890\n",
      "Text saved to ConvertedBooks/Olevel/Book.txt\n"
     ]
    }
   ],
   "source": [
    "input_text = file_conversion('Books/Alevel/Book.pdf')\n",
    "save_to_text_file(input_text, 'ConvertedBooks/Alevel/Book.txt')\n",
    "\n",
    "input_text = file_conversion('Books/Olevel/Book.pdf')\n",
    "save_to_text_file(input_text, 'ConvertedBooks/Olevel/Book.txt')"
   ]
  },
  {
   "cell_type": "code",
   "execution_count": null,
   "metadata": {},
   "outputs": [],
   "source": []
  }
 ],
 "metadata": {
  "kernelspec": {
   "display_name": "Python 3",
   "language": "python",
   "name": "python3"
  },
  "language_info": {
   "name": "python",
   "version": "3.11.5"
  },
  "orig_nbformat": 4
 },
 "nbformat": 4,
 "nbformat_minor": 2
}
