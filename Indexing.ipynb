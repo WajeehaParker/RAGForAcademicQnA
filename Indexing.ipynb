{
 "cells": [
  {
   "cell_type": "code",
   "execution_count": null,
   "metadata": {},
   "outputs": [],
   "source": [
    "from collections import defaultdict"
   ]
  },
  {
   "cell_type": "code",
   "execution_count": null,
   "metadata": {},
   "outputs": [],
   "source": [
    "def create_inverted_index(tokenized_text):\n",
    "    inverted_index = defaultdict(list)\n",
    "    for i, book in enumerate(tokenized_text):\n",
    "        for j, sentence_tokens in enumerate(book):\n",
    "            for token in sentence_tokens:\n",
    "                inverted_index[token].append((i, j))\n",
    "    return inverted_index"
   ]
  },
  {
   "cell_type": "code",
   "execution_count": null,
   "metadata": {},
   "outputs": [],
   "source": [
    "olevel_inverted_index = create_inverted_index(olevel_tokenized_text)\n",
    "word = 'mathematics'\n",
    "print(\"\\nO-Level books containing the word '{}' are indexed at:\".format(word))\n",
    "print(olevel_inverted_index.get(word, []))"
   ]
  }
 ],
 "metadata": {
  "kernelspec": {
   "display_name": "Python 3",
   "language": "python",
   "name": "python3"
  },
  "language_info": {
   "name": "python",
   "version": "3.11.5"
  },
  "orig_nbformat": 4
 },
 "nbformat": 4,
 "nbformat_minor": 2
}
